{
 "cells": [
  {
   "cell_type": "code",
   "execution_count": 1,
   "metadata": {},
   "outputs": [
    {
     "name": "stderr",
     "output_type": "stream",
     "text": [
      "2023-12-29 14:33:32.059909: I tensorflow/tsl/cuda/cudart_stub.cc:28] Could not find cuda drivers on your machine, GPU will not be used.\n",
      "2023-12-29 14:33:32.109237: I tensorflow/tsl/cuda/cudart_stub.cc:28] Could not find cuda drivers on your machine, GPU will not be used.\n",
      "2023-12-29 14:33:32.110273: I tensorflow/core/platform/cpu_feature_guard.cc:182] This TensorFlow binary is optimized to use available CPU instructions in performance-critical operations.\n",
      "To enable the following instructions: AVX2 FMA, in other operations, rebuild TensorFlow with the appropriate compiler flags.\n",
      "2023-12-29 14:33:33.069511: W tensorflow/compiler/tf2tensorrt/utils/py_utils.cc:38] TF-TRT Warning: Could not find TensorRT\n"
     ]
    }
   ],
   "source": [
    "import csv\n",
    "\n",
    "import numpy as np\n",
    "import tensorflow as tf\n",
    "from sklearn.model_selection import train_test_split\n",
    "\n",
    "RANDOM_SEED = 42"
   ]
  },
  {
   "cell_type": "markdown",
   "metadata": {},
   "source": [
    "# 各パス指定"
   ]
  },
  {
   "cell_type": "code",
   "execution_count": 2,
   "metadata": {},
   "outputs": [],
   "source": [
    "dataset = 'model/keypoint_classifier/keypoint.csv'\n",
    "model_save_path = 'model/keypoint_classifier/keypoint_classifier.hdf5'"
   ]
  },
  {
   "cell_type": "markdown",
   "metadata": {},
   "source": [
    "# 分類数設定"
   ]
  },
  {
   "cell_type": "code",
   "execution_count": 3,
   "metadata": {},
   "outputs": [],
   "source": [
    "NUM_CLASSES = 8"
   ]
  },
  {
   "cell_type": "markdown",
   "metadata": {},
   "source": [
    "# 学習データ読み込み"
   ]
  },
  {
   "cell_type": "code",
   "execution_count": 4,
   "metadata": {},
   "outputs": [],
   "source": [
    "X_dataset = np.loadtxt(dataset, delimiter=',', dtype='float32', usecols=list(range(1, (21 * 2) + 1)))"
   ]
  },
  {
   "cell_type": "code",
   "execution_count": 5,
   "metadata": {},
   "outputs": [],
   "source": [
    "y_dataset = np.loadtxt(dataset, delimiter=',', dtype='int32', usecols=(0))"
   ]
  },
  {
   "cell_type": "code",
   "execution_count": 6,
   "metadata": {},
   "outputs": [],
   "source": [
    "X_train, X_test, y_train, y_test = train_test_split(X_dataset, y_dataset, train_size=0.75, random_state=RANDOM_SEED)"
   ]
  },
  {
   "cell_type": "markdown",
   "metadata": {},
   "source": [
    "# モデル構築"
   ]
  },
  {
   "cell_type": "code",
   "execution_count": 7,
   "metadata": {},
   "outputs": [],
   "source": [
    "model = tf.keras.models.Sequential([\n",
    "    tf.keras.layers.Input((21 * 2, )),\n",
    "    tf.keras.layers.Dropout(0.2),\n",
    "    tf.keras.layers.Dense(20, activation='relu'),\n",
    "    tf.keras.layers.Dropout(0.4),\n",
    "    tf.keras.layers.Dense(10, activation='relu'),\n",
    "    tf.keras.layers.Dense(NUM_CLASSES, activation='softmax')\n",
    "])"
   ]
  },
  {
   "cell_type": "code",
   "execution_count": 8,
   "metadata": {},
   "outputs": [
    {
     "name": "stdout",
     "output_type": "stream",
     "text": [
      "Model: \"sequential\"\n",
      "_________________________________________________________________\n",
      " Layer (type)                Output Shape              Param #   \n",
      "=================================================================\n",
      " dropout (Dropout)           (None, 42)                0         \n",
      "                                                                 \n",
      " dense (Dense)               (None, 20)                860       \n",
      "                                                                 \n",
      " dropout_1 (Dropout)         (None, 20)                0         \n",
      "                                                                 \n",
      " dense_1 (Dense)             (None, 10)                210       \n",
      "                                                                 \n",
      " dense_2 (Dense)             (None, 8)                 88        \n",
      "                                                                 \n",
      "=================================================================\n",
      "Total params: 1158 (4.52 KB)\n",
      "Trainable params: 1158 (4.52 KB)\n",
      "Non-trainable params: 0 (0.00 Byte)\n",
      "_________________________________________________________________\n"
     ]
    }
   ],
   "source": [
    "model.summary()  # tf.keras.utils.plot_model(model, show_shapes=True)"
   ]
  },
  {
   "cell_type": "code",
   "execution_count": 9,
   "metadata": {},
   "outputs": [],
   "source": [
    "# モデルチェックポイントのコールバック\n",
    "cp_callback = tf.keras.callbacks.ModelCheckpoint(\n",
    "    model_save_path, verbose=1, save_weights_only=False)\n",
    "# 早期打ち切り用コールバック\n",
    "es_callback = tf.keras.callbacks.EarlyStopping(patience=20, verbose=1)"
   ]
  },
  {
   "cell_type": "code",
   "execution_count": 10,
   "metadata": {},
   "outputs": [],
   "source": [
    "# モデルコンパイル\n",
    "model.compile(\n",
    "    optimizer='adam',\n",
    "    loss='sparse_categorical_crossentropy',\n",
    "    metrics=['accuracy']\n",
    ")"
   ]
  },
  {
   "cell_type": "markdown",
   "metadata": {},
   "source": [
    "# モデル訓練"
   ]
  },
  {
   "cell_type": "code",
   "execution_count": 11,
   "metadata": {
    "scrolled": true
   },
   "outputs": [
    {
     "name": "stdout",
     "output_type": "stream",
     "text": [
      "Epoch 1/1000\n",
      "39/43 [==========================>...] - ETA: 0s - loss: 2.0226 - accuracy: 0.1951\n",
      "Epoch 1: saving model to model/keypoint_classifier/keypoint_classifier.hdf5\n",
      "43/43 [==============================] - 1s 9ms/step - loss: 2.0167 - accuracy: 0.1967 - val_loss: 1.9021 - val_accuracy: 0.2637\n",
      "Epoch 2/1000\n",
      "24/43 [===============>..............] - ETA: 0s - loss: 1.9303 - accuracy: 0.2467\n",
      "Epoch 2: saving model to model/keypoint_classifier/keypoint_classifier.hdf5\n",
      "43/43 [==============================] - 0s 4ms/step - loss: 1.9105 - accuracy: 0.2519 - val_loss: 1.8201 - val_accuracy: 0.2815\n",
      "Epoch 3/1000\n",
      " 1/43 [..............................] - ETA: 0s - loss: 1.9165 - accuracy: 0.2500"
     ]
    },
    {
     "name": "stderr",
     "output_type": "stream",
     "text": [
      "/home/ayush15/.local/lib/python3.8/site-packages/keras/src/engine/training.py:3000: UserWarning: You are saving your model as an HDF5 file via `model.save()`. This file format is considered legacy. We recommend using instead the native Keras format, e.g. `model.save('my_model.keras')`.\n",
      "  saving_api.save_model(\n"
     ]
    },
    {
     "name": "stdout",
     "output_type": "stream",
     "text": [
      "22/43 [==============>...............] - ETA: 0s - loss: 1.8601 - accuracy: 0.2536\n",
      "Epoch 3: saving model to model/keypoint_classifier/keypoint_classifier.hdf5\n",
      "43/43 [==============================] - 0s 4ms/step - loss: 1.8448 - accuracy: 0.2681 - val_loss: 1.7473 - val_accuracy: 0.3361\n",
      "Epoch 4/1000\n",
      "22/43 [==============>...............] - ETA: 0s - loss: 1.8125 - accuracy: 0.2784\n",
      "Epoch 4: saving model to model/keypoint_classifier/keypoint_classifier.hdf5\n",
      "43/43 [==============================] - 0s 4ms/step - loss: 1.7890 - accuracy: 0.2876 - val_loss: 1.6759 - val_accuracy: 0.3651\n",
      "Epoch 5/1000\n",
      "24/43 [===============>..............] - ETA: 0s - loss: 1.7399 - accuracy: 0.3164\n",
      "Epoch 5: saving model to model/keypoint_classifier/keypoint_classifier.hdf5\n",
      "43/43 [==============================] - 0s 4ms/step - loss: 1.7189 - accuracy: 0.3285 - val_loss: 1.5941 - val_accuracy: 0.4359\n",
      "Epoch 6/1000\n",
      "41/43 [===========================>..] - ETA: 0s - loss: 1.6596 - accuracy: 0.3487\n",
      "Epoch 6: saving model to model/keypoint_classifier/keypoint_classifier.hdf5\n",
      "43/43 [==============================] - 0s 4ms/step - loss: 1.6599 - accuracy: 0.3491 - val_loss: 1.5158 - val_accuracy: 0.4621\n",
      "Epoch 7/1000\n",
      "43/43 [==============================] - ETA: 0s - loss: 1.6081 - accuracy: 0.3666\n",
      "Epoch 7: saving model to model/keypoint_classifier/keypoint_classifier.hdf5\n",
      "43/43 [==============================] - 0s 4ms/step - loss: 1.6081 - accuracy: 0.3666 - val_loss: 1.4440 - val_accuracy: 0.4844\n",
      "Epoch 8/1000\n",
      "43/43 [==============================] - ETA: 0s - loss: 1.5562 - accuracy: 0.3817\n",
      "Epoch 8: saving model to model/keypoint_classifier/keypoint_classifier.hdf5\n",
      "43/43 [==============================] - 0s 4ms/step - loss: 1.5562 - accuracy: 0.3817 - val_loss: 1.3691 - val_accuracy: 0.5039\n",
      "Epoch 9/1000\n",
      "42/43 [============================>.] - ETA: 0s - loss: 1.4946 - accuracy: 0.4083\n",
      "Epoch 9: saving model to model/keypoint_classifier/keypoint_classifier.hdf5\n",
      "43/43 [==============================] - 0s 4ms/step - loss: 1.4942 - accuracy: 0.4084 - val_loss: 1.3018 - val_accuracy: 0.5407\n",
      "Epoch 10/1000\n",
      "41/43 [===========================>..] - ETA: 0s - loss: 1.4640 - accuracy: 0.4131\n",
      "Epoch 10: saving model to model/keypoint_classifier/keypoint_classifier.hdf5\n",
      "43/43 [==============================] - 0s 4ms/step - loss: 1.4612 - accuracy: 0.4146 - val_loss: 1.2428 - val_accuracy: 0.5741\n",
      "Epoch 11/1000\n",
      "23/43 [===============>..............] - ETA: 0s - loss: 1.4218 - accuracy: 0.4494\n",
      "Epoch 11: saving model to model/keypoint_classifier/keypoint_classifier.hdf5\n",
      "43/43 [==============================] - 0s 4ms/step - loss: 1.4256 - accuracy: 0.4413 - val_loss: 1.1854 - val_accuracy: 0.6455\n",
      "Epoch 12/1000\n",
      "24/43 [===============>..............] - ETA: 0s - loss: 1.3812 - accuracy: 0.4613\n",
      "Epoch 12: saving model to model/keypoint_classifier/keypoint_classifier.hdf5\n",
      "43/43 [==============================] - 0s 4ms/step - loss: 1.3852 - accuracy: 0.4566 - val_loss: 1.1344 - val_accuracy: 0.6756\n",
      "Epoch 13/1000\n",
      "42/43 [============================>.] - ETA: 0s - loss: 1.3405 - accuracy: 0.4767\n",
      "Epoch 13: saving model to model/keypoint_classifier/keypoint_classifier.hdf5\n",
      "43/43 [==============================] - 0s 4ms/step - loss: 1.3406 - accuracy: 0.4765 - val_loss: 1.0785 - val_accuracy: 0.6839\n",
      "Epoch 14/1000\n",
      "23/43 [===============>..............] - ETA: 0s - loss: 1.3176 - accuracy: 0.4925\n",
      "Epoch 14: saving model to model/keypoint_classifier/keypoint_classifier.hdf5\n",
      "43/43 [==============================] - 0s 4ms/step - loss: 1.3067 - accuracy: 0.4964 - val_loss: 1.0302 - val_accuracy: 0.7029\n",
      "Epoch 15/1000\n",
      "22/43 [==============>...............] - ETA: 0s - loss: 1.2976 - accuracy: 0.4915\n",
      "Epoch 15: saving model to model/keypoint_classifier/keypoint_classifier.hdf5\n",
      "43/43 [==============================] - 0s 4ms/step - loss: 1.2976 - accuracy: 0.4949 - val_loss: 0.9916 - val_accuracy: 0.7068\n",
      "Epoch 16/1000\n",
      "40/43 [==========================>...] - ETA: 0s - loss: 1.2525 - accuracy: 0.5146\n",
      "Epoch 16: saving model to model/keypoint_classifier/keypoint_classifier.hdf5\n",
      "43/43 [==============================] - 0s 4ms/step - loss: 1.2569 - accuracy: 0.5116 - val_loss: 0.9419 - val_accuracy: 0.7285\n",
      "Epoch 17/1000\n",
      "24/43 [===============>..............] - ETA: 0s - loss: 1.2373 - accuracy: 0.5192\n",
      "Epoch 17: saving model to model/keypoint_classifier/keypoint_classifier.hdf5\n",
      "43/43 [==============================] - 0s 4ms/step - loss: 1.2361 - accuracy: 0.5211 - val_loss: 0.9061 - val_accuracy: 0.7402\n",
      "Epoch 18/1000\n",
      "25/43 [================>.............] - ETA: 0s - loss: 1.2263 - accuracy: 0.5178\n",
      "Epoch 18: saving model to model/keypoint_classifier/keypoint_classifier.hdf5\n",
      "43/43 [==============================] - 0s 3ms/step - loss: 1.2200 - accuracy: 0.5230 - val_loss: 0.8781 - val_accuracy: 0.7453\n",
      "Epoch 19/1000\n",
      "43/43 [==============================] - ETA: 0s - loss: 1.1913 - accuracy: 0.5397\n",
      "Epoch 19: saving model to model/keypoint_classifier/keypoint_classifier.hdf5\n",
      "43/43 [==============================] - 0s 4ms/step - loss: 1.1913 - accuracy: 0.5397 - val_loss: 0.8443 - val_accuracy: 0.7720\n",
      "Epoch 20/1000\n",
      "42/43 [============================>.] - ETA: 0s - loss: 1.1976 - accuracy: 0.5361\n",
      "Epoch 20: saving model to model/keypoint_classifier/keypoint_classifier.hdf5\n",
      "43/43 [==============================] - 0s 4ms/step - loss: 1.1977 - accuracy: 0.5362 - val_loss: 0.8158 - val_accuracy: 0.7932\n",
      "Epoch 21/1000\n",
      "43/43 [==============================] - ETA: 0s - loss: 1.1676 - accuracy: 0.5538\n",
      "Epoch 21: saving model to model/keypoint_classifier/keypoint_classifier.hdf5\n",
      "43/43 [==============================] - 0s 4ms/step - loss: 1.1676 - accuracy: 0.5538 - val_loss: 0.7848 - val_accuracy: 0.8032\n",
      "Epoch 22/1000\n",
      "22/43 [==============>...............] - ETA: 0s - loss: 1.1338 - accuracy: 0.5554\n",
      "Epoch 22: saving model to model/keypoint_classifier/keypoint_classifier.hdf5\n",
      "43/43 [==============================] - 0s 4ms/step - loss: 1.1373 - accuracy: 0.5583 - val_loss: 0.7625 - val_accuracy: 0.8205\n",
      "Epoch 23/1000\n",
      "40/43 [==========================>...] - ETA: 0s - loss: 1.1573 - accuracy: 0.5576\n",
      "Epoch 23: saving model to model/keypoint_classifier/keypoint_classifier.hdf5\n",
      "43/43 [==============================] - 0s 4ms/step - loss: 1.1537 - accuracy: 0.5596 - val_loss: 0.7542 - val_accuracy: 0.8456\n",
      "Epoch 24/1000\n",
      "43/43 [==============================] - ETA: 0s - loss: 1.1250 - accuracy: 0.5720\n",
      "Epoch 24: saving model to model/keypoint_classifier/keypoint_classifier.hdf5\n",
      "43/43 [==============================] - 0s 4ms/step - loss: 1.1250 - accuracy: 0.5720 - val_loss: 0.7182 - val_accuracy: 0.8528\n",
      "Epoch 25/1000\n",
      "27/43 [=================>............] - ETA: 0s - loss: 1.1072 - accuracy: 0.5778\n",
      "Epoch 25: saving model to model/keypoint_classifier/keypoint_classifier.hdf5\n",
      "43/43 [==============================] - 0s 4ms/step - loss: 1.1125 - accuracy: 0.5774 - val_loss: 0.7121 - val_accuracy: 0.8707\n",
      "Epoch 26/1000\n",
      "22/43 [==============>...............] - ETA: 0s - loss: 1.0945 - accuracy: 0.5895\n",
      "Epoch 26: saving model to model/keypoint_classifier/keypoint_classifier.hdf5\n",
      "43/43 [==============================] - 0s 4ms/step - loss: 1.0962 - accuracy: 0.5930 - val_loss: 0.6848 - val_accuracy: 0.8545\n",
      "Epoch 27/1000\n",
      "22/43 [==============>...............] - ETA: 0s - loss: 1.1195 - accuracy: 0.5788\n",
      "Epoch 27: saving model to model/keypoint_classifier/keypoint_classifier.hdf5\n",
      "43/43 [==============================] - 0s 4ms/step - loss: 1.1047 - accuracy: 0.5847 - val_loss: 0.6735 - val_accuracy: 0.8768\n",
      "Epoch 28/1000\n",
      "43/43 [==============================] - ETA: 0s - loss: 1.0697 - accuracy: 0.5916\n",
      "Epoch 28: saving model to model/keypoint_classifier/keypoint_classifier.hdf5\n",
      "43/43 [==============================] - 0s 4ms/step - loss: 1.0697 - accuracy: 0.5916 - val_loss: 0.6552 - val_accuracy: 0.8857\n",
      "Epoch 29/1000\n",
      "23/43 [===============>..............] - ETA: 0s - loss: 1.0543 - accuracy: 0.6070\n",
      "Epoch 29: saving model to model/keypoint_classifier/keypoint_classifier.hdf5\n",
      "43/43 [==============================] - 0s 4ms/step - loss: 1.0606 - accuracy: 0.6014 - val_loss: 0.6434 - val_accuracy: 0.8941\n",
      "Epoch 30/1000\n"
     ]
    },
    {
     "name": "stdout",
     "output_type": "stream",
     "text": [
      "23/43 [===============>..............] - ETA: 0s - loss: 1.0635 - accuracy: 0.6029\n",
      "Epoch 30: saving model to model/keypoint_classifier/keypoint_classifier.hdf5\n",
      "43/43 [==============================] - 0s 4ms/step - loss: 1.0546 - accuracy: 0.6062 - val_loss: 0.6213 - val_accuracy: 0.9025\n",
      "Epoch 31/1000\n",
      "22/43 [==============>...............] - ETA: 0s - loss: 1.0163 - accuracy: 0.6261\n",
      "Epoch 31: saving model to model/keypoint_classifier/keypoint_classifier.hdf5\n",
      "43/43 [==============================] - 0s 4ms/step - loss: 1.0356 - accuracy: 0.6167 - val_loss: 0.6189 - val_accuracy: 0.9080\n",
      "Epoch 32/1000\n",
      "23/43 [===============>..............] - ETA: 0s - loss: 1.0267 - accuracy: 0.6124\n",
      "Epoch 32: saving model to model/keypoint_classifier/keypoint_classifier.hdf5\n",
      "43/43 [==============================] - 0s 4ms/step - loss: 1.0406 - accuracy: 0.6120 - val_loss: 0.6074 - val_accuracy: 0.9097\n",
      "Epoch 33/1000\n",
      "23/43 [===============>..............] - ETA: 0s - loss: 1.0284 - accuracy: 0.6148\n",
      "Epoch 33: saving model to model/keypoint_classifier/keypoint_classifier.hdf5\n",
      "43/43 [==============================] - 0s 4ms/step - loss: 1.0310 - accuracy: 0.6137 - val_loss: 0.5947 - val_accuracy: 0.9080\n",
      "Epoch 34/1000\n",
      "24/43 [===============>..............] - ETA: 0s - loss: 0.9968 - accuracy: 0.6276\n",
      "Epoch 34: saving model to model/keypoint_classifier/keypoint_classifier.hdf5\n",
      "43/43 [==============================] - 0s 4ms/step - loss: 1.0179 - accuracy: 0.6213 - val_loss: 0.5748 - val_accuracy: 0.9142\n",
      "Epoch 35/1000\n",
      "43/43 [==============================] - ETA: 0s - loss: 1.0295 - accuracy: 0.6222\n",
      "Epoch 35: saving model to model/keypoint_classifier/keypoint_classifier.hdf5\n",
      "43/43 [==============================] - 0s 4ms/step - loss: 1.0295 - accuracy: 0.6222 - val_loss: 0.5703 - val_accuracy: 0.9136\n",
      "Epoch 36/1000\n",
      "22/43 [==============>...............] - ETA: 0s - loss: 0.9878 - accuracy: 0.6357\n",
      "Epoch 36: saving model to model/keypoint_classifier/keypoint_classifier.hdf5\n",
      "43/43 [==============================] - 0s 4ms/step - loss: 0.9932 - accuracy: 0.6302 - val_loss: 0.5648 - val_accuracy: 0.9158\n",
      "Epoch 37/1000\n",
      "23/43 [===============>..............] - ETA: 0s - loss: 1.0133 - accuracy: 0.6277\n",
      "Epoch 37: saving model to model/keypoint_classifier/keypoint_classifier.hdf5\n",
      "43/43 [==============================] - 0s 4ms/step - loss: 1.0113 - accuracy: 0.6289 - val_loss: 0.5504 - val_accuracy: 0.9181\n",
      "Epoch 38/1000\n",
      "25/43 [================>.............] - ETA: 0s - loss: 1.0127 - accuracy: 0.6241\n",
      "Epoch 38: saving model to model/keypoint_classifier/keypoint_classifier.hdf5\n",
      "43/43 [==============================] - 0s 3ms/step - loss: 1.0027 - accuracy: 0.6269 - val_loss: 0.5474 - val_accuracy: 0.9119\n",
      "Epoch 39/1000\n",
      "24/43 [===============>..............] - ETA: 0s - loss: 0.9751 - accuracy: 0.6351\n",
      "Epoch 39: saving model to model/keypoint_classifier/keypoint_classifier.hdf5\n",
      "43/43 [==============================] - 0s 4ms/step - loss: 0.9778 - accuracy: 0.6364 - val_loss: 0.5310 - val_accuracy: 0.9220\n",
      "Epoch 40/1000\n",
      "43/43 [==============================] - ETA: 0s - loss: 0.9801 - accuracy: 0.6365\n",
      "Epoch 40: saving model to model/keypoint_classifier/keypoint_classifier.hdf5\n",
      "43/43 [==============================] - 0s 4ms/step - loss: 0.9801 - accuracy: 0.6365 - val_loss: 0.5215 - val_accuracy: 0.9225\n",
      "Epoch 41/1000\n",
      "24/43 [===============>..............] - ETA: 0s - loss: 0.9797 - accuracy: 0.6403\n",
      "Epoch 41: saving model to model/keypoint_classifier/keypoint_classifier.hdf5\n",
      "43/43 [==============================] - 0s 4ms/step - loss: 0.9688 - accuracy: 0.6412 - val_loss: 0.5138 - val_accuracy: 0.9197\n",
      "Epoch 42/1000\n",
      "23/43 [===============>..............] - ETA: 0s - loss: 0.9847 - accuracy: 0.6386\n",
      "Epoch 42: saving model to model/keypoint_classifier/keypoint_classifier.hdf5\n",
      "43/43 [==============================] - 0s 4ms/step - loss: 0.9758 - accuracy: 0.6399 - val_loss: 0.5173 - val_accuracy: 0.9125\n",
      "Epoch 43/1000\n",
      "40/43 [==========================>...] - ETA: 0s - loss: 0.9889 - accuracy: 0.6314\n",
      "Epoch 43: saving model to model/keypoint_classifier/keypoint_classifier.hdf5\n",
      "43/43 [==============================] - 0s 4ms/step - loss: 0.9897 - accuracy: 0.6297 - val_loss: 0.5111 - val_accuracy: 0.9119\n",
      "Epoch 44/1000\n",
      "23/43 [===============>..............] - ETA: 0s - loss: 0.9774 - accuracy: 0.6304\n",
      "Epoch 44: saving model to model/keypoint_classifier/keypoint_classifier.hdf5\n",
      "43/43 [==============================] - 0s 4ms/step - loss: 0.9731 - accuracy: 0.6358 - val_loss: 0.4979 - val_accuracy: 0.9186\n",
      "Epoch 45/1000\n",
      "23/43 [===============>..............] - ETA: 0s - loss: 0.9431 - accuracy: 0.6566\n",
      "Epoch 45: saving model to model/keypoint_classifier/keypoint_classifier.hdf5\n",
      "43/43 [==============================] - 0s 4ms/step - loss: 0.9615 - accuracy: 0.6471 - val_loss: 0.4950 - val_accuracy: 0.9164\n",
      "Epoch 46/1000\n",
      "42/43 [============================>.] - ETA: 0s - loss: 0.9563 - accuracy: 0.6455\n",
      "Epoch 46: saving model to model/keypoint_classifier/keypoint_classifier.hdf5\n",
      "43/43 [==============================] - 0s 4ms/step - loss: 0.9560 - accuracy: 0.6457 - val_loss: 0.4815 - val_accuracy: 0.9181\n",
      "Epoch 47/1000\n",
      "23/43 [===============>..............] - ETA: 0s - loss: 0.9482 - accuracy: 0.6559\n",
      "Epoch 47: saving model to model/keypoint_classifier/keypoint_classifier.hdf5\n",
      "43/43 [==============================] - 0s 4ms/step - loss: 0.9562 - accuracy: 0.6466 - val_loss: 0.4791 - val_accuracy: 0.9214\n",
      "Epoch 48/1000\n",
      "42/43 [============================>.] - ETA: 0s - loss: 0.9606 - accuracy: 0.6481\n",
      "Epoch 48: saving model to model/keypoint_classifier/keypoint_classifier.hdf5\n",
      "43/43 [==============================] - 0s 4ms/step - loss: 0.9611 - accuracy: 0.6479 - val_loss: 0.4808 - val_accuracy: 0.9236\n",
      "Epoch 49/1000\n",
      "43/43 [==============================] - ETA: 0s - loss: 0.9448 - accuracy: 0.6455\n",
      "Epoch 49: saving model to model/keypoint_classifier/keypoint_classifier.hdf5\n",
      "43/43 [==============================] - 0s 4ms/step - loss: 0.9448 - accuracy: 0.6455 - val_loss: 0.4808 - val_accuracy: 0.9153\n",
      "Epoch 50/1000\n",
      "24/43 [===============>..............] - ETA: 0s - loss: 0.9361 - accuracy: 0.6546\n",
      "Epoch 50: saving model to model/keypoint_classifier/keypoint_classifier.hdf5\n",
      "43/43 [==============================] - 0s 4ms/step - loss: 0.9401 - accuracy: 0.6494 - val_loss: 0.4738 - val_accuracy: 0.9181\n",
      "Epoch 51/1000\n",
      "25/43 [================>.............] - ETA: 0s - loss: 0.9394 - accuracy: 0.6547\n",
      "Epoch 51: saving model to model/keypoint_classifier/keypoint_classifier.hdf5\n",
      "43/43 [==============================] - 0s 4ms/step - loss: 0.9504 - accuracy: 0.6458 - val_loss: 0.4699 - val_accuracy: 0.9208\n",
      "Epoch 52/1000\n",
      "21/43 [=============>................] - ETA: 0s - loss: 0.9254 - accuracy: 0.6518\n",
      "Epoch 52: saving model to model/keypoint_classifier/keypoint_classifier.hdf5\n",
      "43/43 [==============================] - 0s 4ms/step - loss: 0.9290 - accuracy: 0.6492 - val_loss: 0.4514 - val_accuracy: 0.9259\n",
      "Epoch 53/1000\n",
      "27/43 [=================>............] - ETA: 0s - loss: 0.9455 - accuracy: 0.6542\n",
      "Epoch 53: saving model to model/keypoint_classifier/keypoint_classifier.hdf5\n",
      "43/43 [==============================] - 0s 4ms/step - loss: 0.9397 - accuracy: 0.6538 - val_loss: 0.4531 - val_accuracy: 0.9197\n",
      "Epoch 54/1000\n",
      "24/43 [===============>..............] - ETA: 0s - loss: 0.9168 - accuracy: 0.6549\n",
      "Epoch 54: saving model to model/keypoint_classifier/keypoint_classifier.hdf5\n",
      "43/43 [==============================] - 0s 4ms/step - loss: 0.9414 - accuracy: 0.6481 - val_loss: 0.4487 - val_accuracy: 0.9236\n",
      "Epoch 55/1000\n",
      "21/43 [=============>................] - ETA: 0s - loss: 0.9242 - accuracy: 0.6596\n",
      "Epoch 55: saving model to model/keypoint_classifier/keypoint_classifier.hdf5\n",
      "43/43 [==============================] - 0s 4ms/step - loss: 0.9162 - accuracy: 0.6590 - val_loss: 0.4436 - val_accuracy: 0.9253\n",
      "Epoch 56/1000\n",
      "26/43 [=================>............] - ETA: 0s - loss: 0.9400 - accuracy: 0.6544\n",
      "Epoch 56: saving model to model/keypoint_classifier/keypoint_classifier.hdf5\n",
      "43/43 [==============================] - 0s 4ms/step - loss: 0.9315 - accuracy: 0.6579 - val_loss: 0.4512 - val_accuracy: 0.9225\n",
      "Epoch 57/1000\n"
     ]
    },
    {
     "name": "stdout",
     "output_type": "stream",
     "text": [
      "25/43 [================>.............] - ETA: 0s - loss: 0.9036 - accuracy: 0.6681\n",
      "Epoch 57: saving model to model/keypoint_classifier/keypoint_classifier.hdf5\n",
      "43/43 [==============================] - 0s 4ms/step - loss: 0.9096 - accuracy: 0.6620 - val_loss: 0.4423 - val_accuracy: 0.9225\n",
      "Epoch 58/1000\n",
      "21/43 [=============>................] - ETA: 0s - loss: 0.9238 - accuracy: 0.6544\n",
      "Epoch 58: saving model to model/keypoint_classifier/keypoint_classifier.hdf5\n",
      "43/43 [==============================] - 0s 4ms/step - loss: 0.9178 - accuracy: 0.6605 - val_loss: 0.4492 - val_accuracy: 0.9231\n",
      "Epoch 59/1000\n",
      "24/43 [===============>..............] - ETA: 0s - loss: 0.9266 - accuracy: 0.6527\n",
      "Epoch 59: saving model to model/keypoint_classifier/keypoint_classifier.hdf5\n",
      "43/43 [==============================] - 0s 4ms/step - loss: 0.9194 - accuracy: 0.6568 - val_loss: 0.4419 - val_accuracy: 0.9242\n",
      "Epoch 60/1000\n",
      "22/43 [==============>...............] - ETA: 0s - loss: 0.9046 - accuracy: 0.6690\n",
      "Epoch 60: saving model to model/keypoint_classifier/keypoint_classifier.hdf5\n",
      "43/43 [==============================] - 0s 4ms/step - loss: 0.9056 - accuracy: 0.6682 - val_loss: 0.4331 - val_accuracy: 0.9236\n",
      "Epoch 61/1000\n",
      "24/43 [===============>..............] - ETA: 0s - loss: 0.9129 - accuracy: 0.6667\n",
      "Epoch 61: saving model to model/keypoint_classifier/keypoint_classifier.hdf5\n",
      "43/43 [==============================] - 0s 4ms/step - loss: 0.9080 - accuracy: 0.6670 - val_loss: 0.4383 - val_accuracy: 0.9231\n",
      "Epoch 62/1000\n",
      "22/43 [==============>...............] - ETA: 0s - loss: 0.9062 - accuracy: 0.6612\n",
      "Epoch 62: saving model to model/keypoint_classifier/keypoint_classifier.hdf5\n",
      "43/43 [==============================] - 0s 4ms/step - loss: 0.9101 - accuracy: 0.6572 - val_loss: 0.4335 - val_accuracy: 0.9281\n",
      "Epoch 63/1000\n",
      "22/43 [==============>...............] - ETA: 0s - loss: 0.9018 - accuracy: 0.6694\n",
      "Epoch 63: saving model to model/keypoint_classifier/keypoint_classifier.hdf5\n",
      "43/43 [==============================] - 0s 4ms/step - loss: 0.8960 - accuracy: 0.6687 - val_loss: 0.4314 - val_accuracy: 0.9203\n",
      "Epoch 64/1000\n",
      "24/43 [===============>..............] - ETA: 0s - loss: 0.9161 - accuracy: 0.6605\n",
      "Epoch 64: saving model to model/keypoint_classifier/keypoint_classifier.hdf5\n",
      "43/43 [==============================] - 0s 4ms/step - loss: 0.9016 - accuracy: 0.6709 - val_loss: 0.4274 - val_accuracy: 0.9287\n",
      "Epoch 65/1000\n",
      "22/43 [==============>...............] - ETA: 0s - loss: 0.9072 - accuracy: 0.6680\n",
      "Epoch 65: saving model to model/keypoint_classifier/keypoint_classifier.hdf5\n",
      "43/43 [==============================] - 0s 4ms/step - loss: 0.9139 - accuracy: 0.6629 - val_loss: 0.4211 - val_accuracy: 0.9287\n",
      "Epoch 66/1000\n",
      "23/43 [===============>..............] - ETA: 0s - loss: 0.8920 - accuracy: 0.6695\n",
      "Epoch 66: saving model to model/keypoint_classifier/keypoint_classifier.hdf5\n",
      "43/43 [==============================] - 0s 4ms/step - loss: 0.8853 - accuracy: 0.6721 - val_loss: 0.4208 - val_accuracy: 0.9197\n",
      "Epoch 67/1000\n",
      "22/43 [==============>...............] - ETA: 0s - loss: 0.8614 - accuracy: 0.6907\n",
      "Epoch 67: saving model to model/keypoint_classifier/keypoint_classifier.hdf5\n",
      "43/43 [==============================] - 0s 4ms/step - loss: 0.8708 - accuracy: 0.6858 - val_loss: 0.4133 - val_accuracy: 0.9242\n",
      "Epoch 68/1000\n",
      "22/43 [==============>...............] - ETA: 0s - loss: 0.9020 - accuracy: 0.6687\n",
      "Epoch 68: saving model to model/keypoint_classifier/keypoint_classifier.hdf5\n",
      "43/43 [==============================] - 0s 4ms/step - loss: 0.8821 - accuracy: 0.6747 - val_loss: 0.4106 - val_accuracy: 0.9259\n",
      "Epoch 69/1000\n",
      "22/43 [==============>...............] - ETA: 0s - loss: 0.8680 - accuracy: 0.6793\n",
      "Epoch 69: saving model to model/keypoint_classifier/keypoint_classifier.hdf5\n",
      "43/43 [==============================] - 0s 4ms/step - loss: 0.8813 - accuracy: 0.6739 - val_loss: 0.4067 - val_accuracy: 0.9270\n",
      "Epoch 70/1000\n",
      "25/43 [================>.............] - ETA: 0s - loss: 0.8887 - accuracy: 0.6719\n",
      "Epoch 70: saving model to model/keypoint_classifier/keypoint_classifier.hdf5\n",
      "43/43 [==============================] - 0s 4ms/step - loss: 0.8962 - accuracy: 0.6698 - val_loss: 0.4188 - val_accuracy: 0.9253\n",
      "Epoch 71/1000\n",
      "41/43 [===========================>..] - ETA: 0s - loss: 0.8724 - accuracy: 0.6709\n",
      "Epoch 71: saving model to model/keypoint_classifier/keypoint_classifier.hdf5\n",
      "43/43 [==============================] - 0s 4ms/step - loss: 0.8705 - accuracy: 0.6717 - val_loss: 0.4146 - val_accuracy: 0.9231\n",
      "Epoch 72/1000\n",
      "43/43 [==============================] - ETA: 0s - loss: 0.8853 - accuracy: 0.6776\n",
      "Epoch 72: saving model to model/keypoint_classifier/keypoint_classifier.hdf5\n",
      "43/43 [==============================] - 0s 4ms/step - loss: 0.8853 - accuracy: 0.6776 - val_loss: 0.4184 - val_accuracy: 0.9153\n",
      "Epoch 73/1000\n",
      "25/43 [================>.............] - ETA: 0s - loss: 0.8709 - accuracy: 0.6841\n",
      "Epoch 73: saving model to model/keypoint_classifier/keypoint_classifier.hdf5\n",
      "43/43 [==============================] - 0s 4ms/step - loss: 0.8679 - accuracy: 0.6806 - val_loss: 0.4108 - val_accuracy: 0.9287\n",
      "Epoch 74/1000\n",
      "23/43 [===============>..............] - ETA: 0s - loss: 0.8549 - accuracy: 0.6712\n",
      "Epoch 74: saving model to model/keypoint_classifier/keypoint_classifier.hdf5\n",
      "43/43 [==============================] - 0s 4ms/step - loss: 0.8706 - accuracy: 0.6704 - val_loss: 0.4035 - val_accuracy: 0.9220\n",
      "Epoch 75/1000\n",
      "22/43 [==============>...............] - ETA: 0s - loss: 0.8737 - accuracy: 0.6754\n",
      "Epoch 75: saving model to model/keypoint_classifier/keypoint_classifier.hdf5\n",
      "43/43 [==============================] - 0s 4ms/step - loss: 0.8621 - accuracy: 0.6834 - val_loss: 0.4041 - val_accuracy: 0.9181\n",
      "Epoch 76/1000\n",
      "22/43 [==============>...............] - ETA: 0s - loss: 0.8691 - accuracy: 0.6797\n",
      "Epoch 76: saving model to model/keypoint_classifier/keypoint_classifier.hdf5\n",
      "43/43 [==============================] - 0s 4ms/step - loss: 0.8581 - accuracy: 0.6843 - val_loss: 0.3966 - val_accuracy: 0.9247\n",
      "Epoch 77/1000\n",
      "25/43 [================>.............] - ETA: 0s - loss: 0.9033 - accuracy: 0.6606\n",
      "Epoch 77: saving model to model/keypoint_classifier/keypoint_classifier.hdf5\n",
      "43/43 [==============================] - 0s 4ms/step - loss: 0.8941 - accuracy: 0.6700 - val_loss: 0.4072 - val_accuracy: 0.9147\n",
      "Epoch 78/1000\n",
      "22/43 [==============>...............] - ETA: 0s - loss: 0.8714 - accuracy: 0.6808\n",
      "Epoch 78: saving model to model/keypoint_classifier/keypoint_classifier.hdf5\n",
      "43/43 [==============================] - 0s 4ms/step - loss: 0.8742 - accuracy: 0.6814 - val_loss: 0.4019 - val_accuracy: 0.9292\n",
      "Epoch 79/1000\n",
      "23/43 [===============>..............] - ETA: 0s - loss: 0.8510 - accuracy: 0.6807\n",
      "Epoch 79: saving model to model/keypoint_classifier/keypoint_classifier.hdf5\n",
      "43/43 [==============================] - 0s 4ms/step - loss: 0.8653 - accuracy: 0.6799 - val_loss: 0.4060 - val_accuracy: 0.9208\n",
      "Epoch 80/1000\n",
      "23/43 [===============>..............] - ETA: 0s - loss: 0.8468 - accuracy: 0.6953\n",
      "Epoch 80: saving model to model/keypoint_classifier/keypoint_classifier.hdf5\n",
      "43/43 [==============================] - 0s 4ms/step - loss: 0.8602 - accuracy: 0.6841 - val_loss: 0.3991 - val_accuracy: 0.9175\n",
      "Epoch 81/1000\n",
      "22/43 [==============>...............] - ETA: 0s - loss: 0.8364 - accuracy: 0.6939\n",
      "Epoch 81: saving model to model/keypoint_classifier/keypoint_classifier.hdf5\n",
      "43/43 [==============================] - 0s 4ms/step - loss: 0.8667 - accuracy: 0.6858 - val_loss: 0.3954 - val_accuracy: 0.9253\n",
      "Epoch 82/1000\n",
      "42/43 [============================>.] - ETA: 0s - loss: 0.8791 - accuracy: 0.6745\n",
      "Epoch 82: saving model to model/keypoint_classifier/keypoint_classifier.hdf5\n",
      "43/43 [==============================] - 0s 4ms/step - loss: 0.8791 - accuracy: 0.6745 - val_loss: 0.3984 - val_accuracy: 0.9203\n",
      "Epoch 83/1000\n",
      "26/43 [=================>............] - ETA: 0s - loss: 0.8491 - accuracy: 0.6893\n",
      "Epoch 83: saving model to model/keypoint_classifier/keypoint_classifier.hdf5\n",
      "43/43 [==============================] - 0s 4ms/step - loss: 0.8496 - accuracy: 0.6882 - val_loss: 0.3955 - val_accuracy: 0.9259\n",
      "Epoch 84/1000\n"
     ]
    },
    {
     "name": "stdout",
     "output_type": "stream",
     "text": [
      "41/43 [===========================>..] - ETA: 0s - loss: 0.8555 - accuracy: 0.6942\n",
      "Epoch 84: saving model to model/keypoint_classifier/keypoint_classifier.hdf5\n",
      "43/43 [==============================] - 0s 4ms/step - loss: 0.8582 - accuracy: 0.6946 - val_loss: 0.3969 - val_accuracy: 0.9197\n",
      "Epoch 85/1000\n",
      "26/43 [=================>............] - ETA: 0s - loss: 0.8379 - accuracy: 0.6905\n",
      "Epoch 85: saving model to model/keypoint_classifier/keypoint_classifier.hdf5\n",
      "43/43 [==============================] - 0s 4ms/step - loss: 0.8392 - accuracy: 0.6877 - val_loss: 0.3881 - val_accuracy: 0.9303\n",
      "Epoch 86/1000\n",
      "25/43 [================>.............] - ETA: 0s - loss: 0.8476 - accuracy: 0.6897\n",
      "Epoch 86: saving model to model/keypoint_classifier/keypoint_classifier.hdf5\n",
      "43/43 [==============================] - 0s 4ms/step - loss: 0.8490 - accuracy: 0.6879 - val_loss: 0.3906 - val_accuracy: 0.9287\n",
      "Epoch 87/1000\n",
      "23/43 [===============>..............] - ETA: 0s - loss: 0.8433 - accuracy: 0.6797\n",
      "Epoch 87: saving model to model/keypoint_classifier/keypoint_classifier.hdf5\n",
      "43/43 [==============================] - 0s 4ms/step - loss: 0.8370 - accuracy: 0.6821 - val_loss: 0.3772 - val_accuracy: 0.9270\n",
      "Epoch 88/1000\n",
      "25/43 [================>.............] - ETA: 0s - loss: 0.8231 - accuracy: 0.7009\n",
      "Epoch 88: saving model to model/keypoint_classifier/keypoint_classifier.hdf5\n",
      "43/43 [==============================] - 0s 4ms/step - loss: 0.8409 - accuracy: 0.6934 - val_loss: 0.3761 - val_accuracy: 0.9247\n",
      "Epoch 89/1000\n",
      "24/43 [===============>..............] - ETA: 0s - loss: 0.8594 - accuracy: 0.6891\n",
      "Epoch 89: saving model to model/keypoint_classifier/keypoint_classifier.hdf5\n",
      "43/43 [==============================] - 0s 4ms/step - loss: 0.8515 - accuracy: 0.6884 - val_loss: 0.3808 - val_accuracy: 0.9214\n",
      "Epoch 90/1000\n",
      "21/43 [=============>................] - ETA: 0s - loss: 0.8303 - accuracy: 0.6860\n",
      "Epoch 90: saving model to model/keypoint_classifier/keypoint_classifier.hdf5\n",
      "43/43 [==============================] - 0s 4ms/step - loss: 0.8310 - accuracy: 0.6908 - val_loss: 0.3791 - val_accuracy: 0.9225\n",
      "Epoch 91/1000\n",
      "21/43 [=============>................] - ETA: 0s - loss: 0.8429 - accuracy: 0.6908\n",
      "Epoch 91: saving model to model/keypoint_classifier/keypoint_classifier.hdf5\n",
      "43/43 [==============================] - 0s 4ms/step - loss: 0.8260 - accuracy: 0.7035 - val_loss: 0.3869 - val_accuracy: 0.9203\n",
      "Epoch 92/1000\n",
      "21/43 [=============>................] - ETA: 0s - loss: 0.8636 - accuracy: 0.6801\n",
      "Epoch 92: saving model to model/keypoint_classifier/keypoint_classifier.hdf5\n",
      "43/43 [==============================] - 0s 4ms/step - loss: 0.8552 - accuracy: 0.6825 - val_loss: 0.3874 - val_accuracy: 0.9208\n",
      "Epoch 93/1000\n",
      "23/43 [===============>..............] - ETA: 0s - loss: 0.8286 - accuracy: 0.6963\n",
      "Epoch 93: saving model to model/keypoint_classifier/keypoint_classifier.hdf5\n",
      "43/43 [==============================] - 0s 4ms/step - loss: 0.8254 - accuracy: 0.6970 - val_loss: 0.3778 - val_accuracy: 0.9320\n",
      "Epoch 94/1000\n",
      "23/43 [===============>..............] - ETA: 0s - loss: 0.8473 - accuracy: 0.7024\n",
      "Epoch 94: saving model to model/keypoint_classifier/keypoint_classifier.hdf5\n",
      "43/43 [==============================] - 0s 4ms/step - loss: 0.8396 - accuracy: 0.7018 - val_loss: 0.3805 - val_accuracy: 0.9253\n",
      "Epoch 95/1000\n",
      "24/43 [===============>..............] - ETA: 0s - loss: 0.7933 - accuracy: 0.7103\n",
      "Epoch 95: saving model to model/keypoint_classifier/keypoint_classifier.hdf5\n",
      "43/43 [==============================] - 0s 4ms/step - loss: 0.8044 - accuracy: 0.7087 - val_loss: 0.3734 - val_accuracy: 0.9281\n",
      "Epoch 96/1000\n",
      "26/43 [=================>............] - ETA: 0s - loss: 0.8123 - accuracy: 0.7019\n",
      "Epoch 96: saving model to model/keypoint_classifier/keypoint_classifier.hdf5\n",
      "43/43 [==============================] - 0s 4ms/step - loss: 0.8303 - accuracy: 0.6953 - val_loss: 0.3745 - val_accuracy: 0.9164\n",
      "Epoch 97/1000\n",
      "25/43 [================>.............] - ETA: 0s - loss: 0.8342 - accuracy: 0.6934\n",
      "Epoch 97: saving model to model/keypoint_classifier/keypoint_classifier.hdf5\n",
      "43/43 [==============================] - 0s 4ms/step - loss: 0.8306 - accuracy: 0.6929 - val_loss: 0.3706 - val_accuracy: 0.9281\n",
      "Epoch 98/1000\n",
      "42/43 [============================>.] - ETA: 0s - loss: 0.8168 - accuracy: 0.6992\n",
      "Epoch 98: saving model to model/keypoint_classifier/keypoint_classifier.hdf5\n",
      "43/43 [==============================] - 0s 4ms/step - loss: 0.8174 - accuracy: 0.6990 - val_loss: 0.3684 - val_accuracy: 0.9259\n",
      "Epoch 99/1000\n",
      "25/43 [================>.............] - ETA: 0s - loss: 0.8378 - accuracy: 0.6900\n",
      "Epoch 99: saving model to model/keypoint_classifier/keypoint_classifier.hdf5\n",
      "43/43 [==============================] - 0s 4ms/step - loss: 0.8394 - accuracy: 0.6880 - val_loss: 0.3827 - val_accuracy: 0.9214\n",
      "Epoch 100/1000\n",
      "24/43 [===============>..............] - ETA: 0s - loss: 0.8251 - accuracy: 0.7008\n",
      "Epoch 100: saving model to model/keypoint_classifier/keypoint_classifier.hdf5\n",
      "43/43 [==============================] - 0s 4ms/step - loss: 0.8359 - accuracy: 0.6977 - val_loss: 0.3814 - val_accuracy: 0.9158\n",
      "Epoch 101/1000\n",
      "23/43 [===============>..............] - ETA: 0s - loss: 0.8237 - accuracy: 0.7041\n",
      "Epoch 101: saving model to model/keypoint_classifier/keypoint_classifier.hdf5\n",
      "43/43 [==============================] - 0s 4ms/step - loss: 0.8242 - accuracy: 0.7027 - val_loss: 0.3777 - val_accuracy: 0.9214\n",
      "Epoch 102/1000\n",
      "23/43 [===============>..............] - ETA: 0s - loss: 0.8413 - accuracy: 0.6817\n",
      "Epoch 102: saving model to model/keypoint_classifier/keypoint_classifier.hdf5\n",
      "43/43 [==============================] - 0s 4ms/step - loss: 0.8131 - accuracy: 0.6986 - val_loss: 0.3651 - val_accuracy: 0.9275\n",
      "Epoch 103/1000\n",
      "23/43 [===============>..............] - ETA: 0s - loss: 0.8335 - accuracy: 0.6919\n",
      "Epoch 103: saving model to model/keypoint_classifier/keypoint_classifier.hdf5\n",
      "43/43 [==============================] - 0s 4ms/step - loss: 0.8308 - accuracy: 0.6992 - val_loss: 0.3704 - val_accuracy: 0.9203\n",
      "Epoch 104/1000\n",
      "42/43 [============================>.] - ETA: 0s - loss: 0.8196 - accuracy: 0.7048\n",
      "Epoch 104: saving model to model/keypoint_classifier/keypoint_classifier.hdf5\n",
      "43/43 [==============================] - 0s 4ms/step - loss: 0.8200 - accuracy: 0.7048 - val_loss: 0.3725 - val_accuracy: 0.9253\n",
      "Epoch 105/1000\n",
      "42/43 [============================>.] - ETA: 0s - loss: 0.8382 - accuracy: 0.7003\n",
      "Epoch 105: saving model to model/keypoint_classifier/keypoint_classifier.hdf5\n",
      "43/43 [==============================] - 0s 4ms/step - loss: 0.8381 - accuracy: 0.7001 - val_loss: 0.3739 - val_accuracy: 0.9186\n",
      "Epoch 106/1000\n",
      "26/43 [=================>............] - ETA: 0s - loss: 0.8264 - accuracy: 0.6998\n",
      "Epoch 106: saving model to model/keypoint_classifier/keypoint_classifier.hdf5\n",
      "43/43 [==============================] - 0s 4ms/step - loss: 0.8422 - accuracy: 0.6886 - val_loss: 0.3768 - val_accuracy: 0.9236\n",
      "Epoch 107/1000\n",
      "25/43 [================>.............] - ETA: 0s - loss: 0.8502 - accuracy: 0.6909\n",
      "Epoch 107: saving model to model/keypoint_classifier/keypoint_classifier.hdf5\n",
      "43/43 [==============================] - 0s 4ms/step - loss: 0.8446 - accuracy: 0.6933 - val_loss: 0.3677 - val_accuracy: 0.9208\n",
      "Epoch 108/1000\n",
      "25/43 [================>.............] - ETA: 0s - loss: 0.8007 - accuracy: 0.7134\n",
      "Epoch 108: saving model to model/keypoint_classifier/keypoint_classifier.hdf5\n",
      "43/43 [==============================] - 0s 4ms/step - loss: 0.8009 - accuracy: 0.7128 - val_loss: 0.3739 - val_accuracy: 0.9242\n",
      "Epoch 109/1000\n",
      "26/43 [=================>............] - ETA: 0s - loss: 0.7936 - accuracy: 0.7091\n",
      "Epoch 109: saving model to model/keypoint_classifier/keypoint_classifier.hdf5\n",
      "43/43 [==============================] - 0s 4ms/step - loss: 0.7969 - accuracy: 0.7076 - val_loss: 0.3569 - val_accuracy: 0.9303\n",
      "Epoch 110/1000\n",
      "25/43 [================>.............] - ETA: 0s - loss: 0.8407 - accuracy: 0.6938\n",
      "Epoch 110: saving model to model/keypoint_classifier/keypoint_classifier.hdf5\n",
      "43/43 [==============================] - 0s 4ms/step - loss: 0.8267 - accuracy: 0.6983 - val_loss: 0.3743 - val_accuracy: 0.9181\n",
      "Epoch 111/1000\n"
     ]
    },
    {
     "name": "stdout",
     "output_type": "stream",
     "text": [
      "43/43 [==============================] - ETA: 0s - loss: 0.8184 - accuracy: 0.7001\n",
      "Epoch 111: saving model to model/keypoint_classifier/keypoint_classifier.hdf5\n",
      "43/43 [==============================] - 0s 4ms/step - loss: 0.8184 - accuracy: 0.7001 - val_loss: 0.3734 - val_accuracy: 0.9175\n",
      "Epoch 112/1000\n",
      "21/43 [=============>................] - ETA: 0s - loss: 0.8065 - accuracy: 0.7024\n",
      "Epoch 112: saving model to model/keypoint_classifier/keypoint_classifier.hdf5\n",
      "43/43 [==============================] - 0s 4ms/step - loss: 0.8174 - accuracy: 0.7057 - val_loss: 0.3631 - val_accuracy: 0.9253\n",
      "Epoch 113/1000\n",
      "23/43 [===============>..............] - ETA: 0s - loss: 0.7754 - accuracy: 0.7235\n",
      "Epoch 113: saving model to model/keypoint_classifier/keypoint_classifier.hdf5\n",
      "43/43 [==============================] - 0s 4ms/step - loss: 0.8000 - accuracy: 0.7070 - val_loss: 0.3660 - val_accuracy: 0.9181\n",
      "Epoch 114/1000\n",
      "42/43 [============================>.] - ETA: 0s - loss: 0.8003 - accuracy: 0.7039\n",
      "Epoch 114: saving model to model/keypoint_classifier/keypoint_classifier.hdf5\n",
      "43/43 [==============================] - 0s 4ms/step - loss: 0.8007 - accuracy: 0.7035 - val_loss: 0.3630 - val_accuracy: 0.9225\n",
      "Epoch 115/1000\n",
      "23/43 [===============>..............] - ETA: 0s - loss: 0.8304 - accuracy: 0.6977\n",
      "Epoch 115: saving model to model/keypoint_classifier/keypoint_classifier.hdf5\n",
      "43/43 [==============================] - 0s 4ms/step - loss: 0.8233 - accuracy: 0.7066 - val_loss: 0.3719 - val_accuracy: 0.9125\n",
      "Epoch 116/1000\n",
      "24/43 [===============>..............] - ETA: 0s - loss: 0.8161 - accuracy: 0.7018\n",
      "Epoch 116: saving model to model/keypoint_classifier/keypoint_classifier.hdf5\n",
      "43/43 [==============================] - 0s 4ms/step - loss: 0.8157 - accuracy: 0.6975 - val_loss: 0.3616 - val_accuracy: 0.9175\n",
      "Epoch 117/1000\n",
      "24/43 [===============>..............] - ETA: 0s - loss: 0.8052 - accuracy: 0.7090\n",
      "Epoch 117: saving model to model/keypoint_classifier/keypoint_classifier.hdf5\n",
      "43/43 [==============================] - 0s 4ms/step - loss: 0.8042 - accuracy: 0.7083 - val_loss: 0.3618 - val_accuracy: 0.9147\n",
      "Epoch 118/1000\n",
      "42/43 [============================>.] - ETA: 0s - loss: 0.8200 - accuracy: 0.7026\n",
      "Epoch 118: saving model to model/keypoint_classifier/keypoint_classifier.hdf5\n",
      "43/43 [==============================] - 0s 4ms/step - loss: 0.8199 - accuracy: 0.7025 - val_loss: 0.3498 - val_accuracy: 0.9281\n",
      "Epoch 119/1000\n",
      "21/43 [=============>................] - ETA: 0s - loss: 0.8131 - accuracy: 0.7135\n",
      "Epoch 119: saving model to model/keypoint_classifier/keypoint_classifier.hdf5\n",
      "43/43 [==============================] - 0s 4ms/step - loss: 0.7935 - accuracy: 0.7111 - val_loss: 0.3626 - val_accuracy: 0.9247\n",
      "Epoch 120/1000\n",
      "43/43 [==============================] - ETA: 0s - loss: 0.8118 - accuracy: 0.6996\n",
      "Epoch 120: saving model to model/keypoint_classifier/keypoint_classifier.hdf5\n",
      "43/43 [==============================] - 0s 4ms/step - loss: 0.8118 - accuracy: 0.6996 - val_loss: 0.3591 - val_accuracy: 0.9326\n",
      "Epoch 121/1000\n",
      "23/43 [===============>..............] - ETA: 0s - loss: 0.7961 - accuracy: 0.7198\n",
      "Epoch 121: saving model to model/keypoint_classifier/keypoint_classifier.hdf5\n",
      "43/43 [==============================] - 0s 4ms/step - loss: 0.7975 - accuracy: 0.7124 - val_loss: 0.3612 - val_accuracy: 0.9236\n",
      "Epoch 122/1000\n",
      "23/43 [===============>..............] - ETA: 0s - loss: 0.7992 - accuracy: 0.7099\n",
      "Epoch 122: saving model to model/keypoint_classifier/keypoint_classifier.hdf5\n",
      "43/43 [==============================] - 0s 4ms/step - loss: 0.8016 - accuracy: 0.7068 - val_loss: 0.3579 - val_accuracy: 0.9270\n",
      "Epoch 123/1000\n",
      "22/43 [==============>...............] - ETA: 0s - loss: 0.8216 - accuracy: 0.7035\n",
      "Epoch 123: saving model to model/keypoint_classifier/keypoint_classifier.hdf5\n",
      "43/43 [==============================] - 0s 4ms/step - loss: 0.8123 - accuracy: 0.7005 - val_loss: 0.3590 - val_accuracy: 0.9231\n",
      "Epoch 124/1000\n",
      "25/43 [================>.............] - ETA: 0s - loss: 0.7965 - accuracy: 0.7050\n",
      "Epoch 124: saving model to model/keypoint_classifier/keypoint_classifier.hdf5\n",
      "43/43 [==============================] - 0s 4ms/step - loss: 0.7833 - accuracy: 0.7122 - val_loss: 0.3524 - val_accuracy: 0.9247\n",
      "Epoch 125/1000\n",
      "43/43 [==============================] - ETA: 0s - loss: 0.8073 - accuracy: 0.7074\n",
      "Epoch 125: saving model to model/keypoint_classifier/keypoint_classifier.hdf5\n",
      "43/43 [==============================] - 0s 4ms/step - loss: 0.8073 - accuracy: 0.7074 - val_loss: 0.3581 - val_accuracy: 0.9275\n",
      "Epoch 126/1000\n",
      "43/43 [==============================] - ETA: 0s - loss: 0.7932 - accuracy: 0.7141\n",
      "Epoch 126: saving model to model/keypoint_classifier/keypoint_classifier.hdf5\n",
      "43/43 [==============================] - 0s 4ms/step - loss: 0.7932 - accuracy: 0.7141 - val_loss: 0.3596 - val_accuracy: 0.9264\n",
      "Epoch 127/1000\n",
      "23/43 [===============>..............] - ETA: 0s - loss: 0.8130 - accuracy: 0.7089\n",
      "Epoch 127: saving model to model/keypoint_classifier/keypoint_classifier.hdf5\n",
      "43/43 [==============================] - 0s 4ms/step - loss: 0.8001 - accuracy: 0.7141 - val_loss: 0.3609 - val_accuracy: 0.9309\n",
      "Epoch 128/1000\n",
      "22/43 [==============>...............] - ETA: 0s - loss: 0.7984 - accuracy: 0.7085\n",
      "Epoch 128: saving model to model/keypoint_classifier/keypoint_classifier.hdf5\n",
      "43/43 [==============================] - 0s 4ms/step - loss: 0.7967 - accuracy: 0.7081 - val_loss: 0.3489 - val_accuracy: 0.9331\n",
      "Epoch 129/1000\n",
      "43/43 [==============================] - ETA: 0s - loss: 0.7915 - accuracy: 0.7107\n",
      "Epoch 129: saving model to model/keypoint_classifier/keypoint_classifier.hdf5\n",
      "43/43 [==============================] - 0s 4ms/step - loss: 0.7915 - accuracy: 0.7107 - val_loss: 0.3494 - val_accuracy: 0.9337\n",
      "Epoch 130/1000\n",
      "41/43 [===========================>..] - ETA: 0s - loss: 0.7918 - accuracy: 0.7127\n",
      "Epoch 130: saving model to model/keypoint_classifier/keypoint_classifier.hdf5\n",
      "43/43 [==============================] - 0s 4ms/step - loss: 0.7924 - accuracy: 0.7124 - val_loss: 0.3563 - val_accuracy: 0.9298\n",
      "Epoch 131/1000\n",
      "23/43 [===============>..............] - ETA: 0s - loss: 0.7996 - accuracy: 0.7154\n",
      "Epoch 131: saving model to model/keypoint_classifier/keypoint_classifier.hdf5\n",
      "43/43 [==============================] - 0s 4ms/step - loss: 0.7990 - accuracy: 0.7163 - val_loss: 0.3493 - val_accuracy: 0.9326\n",
      "Epoch 132/1000\n",
      "23/43 [===============>..............] - ETA: 0s - loss: 0.7758 - accuracy: 0.7201\n",
      "Epoch 132: saving model to model/keypoint_classifier/keypoint_classifier.hdf5\n",
      "43/43 [==============================] - 0s 4ms/step - loss: 0.7902 - accuracy: 0.7197 - val_loss: 0.3445 - val_accuracy: 0.9309\n",
      "Epoch 133/1000\n",
      "21/43 [=============>................] - ETA: 0s - loss: 0.7853 - accuracy: 0.7139\n",
      "Epoch 133: saving model to model/keypoint_classifier/keypoint_classifier.hdf5\n",
      "43/43 [==============================] - 0s 4ms/step - loss: 0.7870 - accuracy: 0.7156 - val_loss: 0.3522 - val_accuracy: 0.9275\n",
      "Epoch 134/1000\n",
      "42/43 [============================>.] - ETA: 0s - loss: 0.7851 - accuracy: 0.7094\n",
      "Epoch 134: saving model to model/keypoint_classifier/keypoint_classifier.hdf5\n",
      "43/43 [==============================] - 0s 4ms/step - loss: 0.7852 - accuracy: 0.7094 - val_loss: 0.3416 - val_accuracy: 0.9331\n",
      "Epoch 135/1000\n",
      "27/43 [=================>............] - ETA: 0s - loss: 0.7991 - accuracy: 0.7170\n",
      "Epoch 135: saving model to model/keypoint_classifier/keypoint_classifier.hdf5\n",
      "43/43 [==============================] - 0s 4ms/step - loss: 0.7857 - accuracy: 0.7228 - val_loss: 0.3411 - val_accuracy: 0.9331\n",
      "Epoch 136/1000\n",
      "42/43 [============================>.] - ETA: 0s - loss: 0.7898 - accuracy: 0.7215\n",
      "Epoch 136: saving model to model/keypoint_classifier/keypoint_classifier.hdf5\n",
      "43/43 [==============================] - 0s 4ms/step - loss: 0.7897 - accuracy: 0.7215 - val_loss: 0.3459 - val_accuracy: 0.9314\n",
      "Epoch 137/1000\n",
      "42/43 [============================>.] - ETA: 0s - loss: 0.8029 - accuracy: 0.7091\n",
      "Epoch 137: saving model to model/keypoint_classifier/keypoint_classifier.hdf5\n",
      "43/43 [==============================] - 0s 4ms/step - loss: 0.8028 - accuracy: 0.7089 - val_loss: 0.3375 - val_accuracy: 0.9376\n"
     ]
    },
    {
     "name": "stdout",
     "output_type": "stream",
     "text": [
      "Epoch 138/1000\n",
      "43/43 [==============================] - ETA: 0s - loss: 0.7970 - accuracy: 0.7120\n",
      "Epoch 138: saving model to model/keypoint_classifier/keypoint_classifier.hdf5\n",
      "43/43 [==============================] - 0s 4ms/step - loss: 0.7970 - accuracy: 0.7120 - val_loss: 0.3488 - val_accuracy: 0.9281\n",
      "Epoch 139/1000\n",
      "24/43 [===============>..............] - ETA: 0s - loss: 0.7730 - accuracy: 0.7158\n",
      "Epoch 139: saving model to model/keypoint_classifier/keypoint_classifier.hdf5\n",
      "43/43 [==============================] - 0s 4ms/step - loss: 0.7658 - accuracy: 0.7167 - val_loss: 0.3534 - val_accuracy: 0.9236\n",
      "Epoch 140/1000\n",
      "22/43 [==============>...............] - ETA: 0s - loss: 0.7887 - accuracy: 0.7141\n",
      "Epoch 140: saving model to model/keypoint_classifier/keypoint_classifier.hdf5\n",
      "43/43 [==============================] - 0s 4ms/step - loss: 0.7863 - accuracy: 0.7202 - val_loss: 0.3504 - val_accuracy: 0.9259\n",
      "Epoch 141/1000\n",
      "22/43 [==============>...............] - ETA: 0s - loss: 0.7671 - accuracy: 0.7259\n",
      "Epoch 141: saving model to model/keypoint_classifier/keypoint_classifier.hdf5\n",
      "43/43 [==============================] - 0s 4ms/step - loss: 0.7813 - accuracy: 0.7126 - val_loss: 0.3382 - val_accuracy: 0.9303\n",
      "Epoch 142/1000\n",
      "22/43 [==============>...............] - ETA: 0s - loss: 0.7910 - accuracy: 0.7138\n",
      "Epoch 142: saving model to model/keypoint_classifier/keypoint_classifier.hdf5\n",
      "43/43 [==============================] - 0s 4ms/step - loss: 0.7945 - accuracy: 0.7135 - val_loss: 0.3409 - val_accuracy: 0.9270\n",
      "Epoch 143/1000\n",
      "25/43 [================>.............] - ETA: 0s - loss: 0.7882 - accuracy: 0.7022\n",
      "Epoch 143: saving model to model/keypoint_classifier/keypoint_classifier.hdf5\n",
      "43/43 [==============================] - 0s 4ms/step - loss: 0.7929 - accuracy: 0.7094 - val_loss: 0.3436 - val_accuracy: 0.9314\n",
      "Epoch 144/1000\n",
      "42/43 [============================>.] - ETA: 0s - loss: 0.7618 - accuracy: 0.7258\n",
      "Epoch 144: saving model to model/keypoint_classifier/keypoint_classifier.hdf5\n",
      "43/43 [==============================] - 0s 4ms/step - loss: 0.7620 - accuracy: 0.7258 - val_loss: 0.3388 - val_accuracy: 0.9298\n",
      "Epoch 145/1000\n",
      "43/43 [==============================] - ETA: 0s - loss: 0.7660 - accuracy: 0.7224\n",
      "Epoch 145: saving model to model/keypoint_classifier/keypoint_classifier.hdf5\n",
      "43/43 [==============================] - 0s 4ms/step - loss: 0.7660 - accuracy: 0.7224 - val_loss: 0.3425 - val_accuracy: 0.9292\n",
      "Epoch 146/1000\n",
      "25/43 [================>.............] - ETA: 0s - loss: 0.7841 - accuracy: 0.7197\n",
      "Epoch 146: saving model to model/keypoint_classifier/keypoint_classifier.hdf5\n",
      "43/43 [==============================] - 0s 4ms/step - loss: 0.7722 - accuracy: 0.7265 - val_loss: 0.3505 - val_accuracy: 0.9314\n",
      "Epoch 147/1000\n",
      "22/43 [==============>...............] - ETA: 0s - loss: 0.7815 - accuracy: 0.7180\n",
      "Epoch 147: saving model to model/keypoint_classifier/keypoint_classifier.hdf5\n",
      "43/43 [==============================] - 0s 4ms/step - loss: 0.7808 - accuracy: 0.7197 - val_loss: 0.3333 - val_accuracy: 0.9309\n",
      "Epoch 148/1000\n",
      "22/43 [==============>...............] - ETA: 0s - loss: 0.8012 - accuracy: 0.7006\n",
      "Epoch 148: saving model to model/keypoint_classifier/keypoint_classifier.hdf5\n",
      "43/43 [==============================] - 0s 4ms/step - loss: 0.7753 - accuracy: 0.7131 - val_loss: 0.3354 - val_accuracy: 0.9303\n",
      "Epoch 149/1000\n",
      "23/43 [===============>..............] - ETA: 0s - loss: 0.7967 - accuracy: 0.7215\n",
      "Epoch 149: saving model to model/keypoint_classifier/keypoint_classifier.hdf5\n",
      "43/43 [==============================] - 0s 4ms/step - loss: 0.7890 - accuracy: 0.7165 - val_loss: 0.3426 - val_accuracy: 0.9320\n",
      "Epoch 150/1000\n",
      "21/43 [=============>................] - ETA: 0s - loss: 0.7866 - accuracy: 0.7202\n",
      "Epoch 150: saving model to model/keypoint_classifier/keypoint_classifier.hdf5\n",
      "43/43 [==============================] - 0s 4ms/step - loss: 0.7790 - accuracy: 0.7239 - val_loss: 0.3485 - val_accuracy: 0.9298\n",
      "Epoch 151/1000\n",
      "21/43 [=============>................] - ETA: 0s - loss: 0.7790 - accuracy: 0.7191\n",
      "Epoch 151: saving model to model/keypoint_classifier/keypoint_classifier.hdf5\n",
      "43/43 [==============================] - 0s 4ms/step - loss: 0.7780 - accuracy: 0.7239 - val_loss: 0.3486 - val_accuracy: 0.9326\n",
      "Epoch 152/1000\n",
      "22/43 [==============>...............] - ETA: 0s - loss: 0.7737 - accuracy: 0.7202\n",
      "Epoch 152: saving model to model/keypoint_classifier/keypoint_classifier.hdf5\n",
      "43/43 [==============================] - 0s 4ms/step - loss: 0.7622 - accuracy: 0.7302 - val_loss: 0.3317 - val_accuracy: 0.9292\n",
      "Epoch 153/1000\n",
      "43/43 [==============================] - ETA: 0s - loss: 0.7906 - accuracy: 0.7210\n",
      "Epoch 153: saving model to model/keypoint_classifier/keypoint_classifier.hdf5\n",
      "43/43 [==============================] - 0s 4ms/step - loss: 0.7906 - accuracy: 0.7210 - val_loss: 0.3450 - val_accuracy: 0.9314\n",
      "Epoch 154/1000\n",
      "26/43 [=================>............] - ETA: 0s - loss: 0.7767 - accuracy: 0.7278\n",
      "Epoch 154: saving model to model/keypoint_classifier/keypoint_classifier.hdf5\n",
      "43/43 [==============================] - 0s 4ms/step - loss: 0.7706 - accuracy: 0.7237 - val_loss: 0.3434 - val_accuracy: 0.9303\n",
      "Epoch 155/1000\n",
      "24/43 [===============>..............] - ETA: 0s - loss: 0.7546 - accuracy: 0.7292\n",
      "Epoch 155: saving model to model/keypoint_classifier/keypoint_classifier.hdf5\n",
      "43/43 [==============================] - 0s 4ms/step - loss: 0.7690 - accuracy: 0.7211 - val_loss: 0.3358 - val_accuracy: 0.9326\n",
      "Epoch 156/1000\n",
      "43/43 [==============================] - ETA: 0s - loss: 0.7849 - accuracy: 0.7148\n",
      "Epoch 156: saving model to model/keypoint_classifier/keypoint_classifier.hdf5\n",
      "43/43 [==============================] - 0s 4ms/step - loss: 0.7849 - accuracy: 0.7148 - val_loss: 0.3439 - val_accuracy: 0.9348\n",
      "Epoch 157/1000\n",
      "23/43 [===============>..............] - ETA: 0s - loss: 0.7668 - accuracy: 0.7279\n",
      "Epoch 157: saving model to model/keypoint_classifier/keypoint_classifier.hdf5\n",
      "43/43 [==============================] - 0s 4ms/step - loss: 0.7704 - accuracy: 0.7198 - val_loss: 0.3462 - val_accuracy: 0.9292\n",
      "Epoch 158/1000\n",
      "21/43 [=============>................] - ETA: 0s - loss: 0.7702 - accuracy: 0.7195\n",
      "Epoch 158: saving model to model/keypoint_classifier/keypoint_classifier.hdf5\n",
      "43/43 [==============================] - 0s 4ms/step - loss: 0.7630 - accuracy: 0.7200 - val_loss: 0.3426 - val_accuracy: 0.9298\n",
      "Epoch 159/1000\n",
      "23/43 [===============>..............] - ETA: 0s - loss: 0.7900 - accuracy: 0.7089\n",
      "Epoch 159: saving model to model/keypoint_classifier/keypoint_classifier.hdf5\n",
      "43/43 [==============================] - 0s 4ms/step - loss: 0.7768 - accuracy: 0.7139 - val_loss: 0.3358 - val_accuracy: 0.9314\n",
      "Epoch 160/1000\n",
      "43/43 [==============================] - ETA: 0s - loss: 0.7693 - accuracy: 0.7174\n",
      "Epoch 160: saving model to model/keypoint_classifier/keypoint_classifier.hdf5\n",
      "43/43 [==============================] - 0s 4ms/step - loss: 0.7693 - accuracy: 0.7174 - val_loss: 0.3455 - val_accuracy: 0.9320\n",
      "Epoch 161/1000\n",
      "43/43 [==============================] - ETA: 0s - loss: 0.7678 - accuracy: 0.7185\n",
      "Epoch 161: saving model to model/keypoint_classifier/keypoint_classifier.hdf5\n",
      "43/43 [==============================] - 0s 4ms/step - loss: 0.7678 - accuracy: 0.7185 - val_loss: 0.3441 - val_accuracy: 0.9309\n",
      "Epoch 162/1000\n",
      "24/43 [===============>..............] - ETA: 0s - loss: 0.7656 - accuracy: 0.7184\n",
      "Epoch 162: saving model to model/keypoint_classifier/keypoint_classifier.hdf5\n",
      "43/43 [==============================] - 0s 4ms/step - loss: 0.7701 - accuracy: 0.7174 - val_loss: 0.3325 - val_accuracy: 0.9348\n",
      "Epoch 163/1000\n",
      "42/43 [============================>.] - ETA: 0s - loss: 0.7752 - accuracy: 0.7173\n",
      "Epoch 163: saving model to model/keypoint_classifier/keypoint_classifier.hdf5\n",
      "43/43 [==============================] - 0s 4ms/step - loss: 0.7755 - accuracy: 0.7172 - val_loss: 0.3519 - val_accuracy: 0.9298\n",
      "Epoch 164/1000\n",
      "25/43 [================>.............] - ETA: 0s - loss: 0.7877 - accuracy: 0.7144\n",
      "Epoch 164: saving model to model/keypoint_classifier/keypoint_classifier.hdf5\n",
      "43/43 [==============================] - 0s 4ms/step - loss: 0.7743 - accuracy: 0.7206 - val_loss: 0.3494 - val_accuracy: 0.9287\n"
     ]
    },
    {
     "name": "stdout",
     "output_type": "stream",
     "text": [
      "Epoch 165/1000\n",
      "23/43 [===============>..............] - ETA: 0s - loss: 0.7926 - accuracy: 0.7133\n",
      "Epoch 165: saving model to model/keypoint_classifier/keypoint_classifier.hdf5\n",
      "43/43 [==============================] - 0s 4ms/step - loss: 0.7727 - accuracy: 0.7250 - val_loss: 0.3355 - val_accuracy: 0.9337\n",
      "Epoch 166/1000\n",
      "24/43 [===============>..............] - ETA: 0s - loss: 0.7832 - accuracy: 0.7145\n",
      "Epoch 166: saving model to model/keypoint_classifier/keypoint_classifier.hdf5\n",
      "43/43 [==============================] - 0s 4ms/step - loss: 0.7740 - accuracy: 0.7183 - val_loss: 0.3402 - val_accuracy: 0.9331\n",
      "Epoch 167/1000\n",
      "43/43 [==============================] - ETA: 0s - loss: 0.7619 - accuracy: 0.7213\n",
      "Epoch 167: saving model to model/keypoint_classifier/keypoint_classifier.hdf5\n",
      "43/43 [==============================] - 0s 4ms/step - loss: 0.7619 - accuracy: 0.7213 - val_loss: 0.3356 - val_accuracy: 0.9314\n",
      "Epoch 168/1000\n",
      "23/43 [===============>..............] - ETA: 0s - loss: 0.7622 - accuracy: 0.7313\n",
      "Epoch 168: saving model to model/keypoint_classifier/keypoint_classifier.hdf5\n",
      "43/43 [==============================] - 0s 4ms/step - loss: 0.7460 - accuracy: 0.7334 - val_loss: 0.3402 - val_accuracy: 0.9309\n",
      "Epoch 169/1000\n",
      "22/43 [==============>...............] - ETA: 0s - loss: 0.7897 - accuracy: 0.7003\n",
      "Epoch 169: saving model to model/keypoint_classifier/keypoint_classifier.hdf5\n",
      "43/43 [==============================] - 0s 4ms/step - loss: 0.7736 - accuracy: 0.7150 - val_loss: 0.3320 - val_accuracy: 0.9342\n",
      "Epoch 170/1000\n",
      "41/43 [===========================>..] - ETA: 0s - loss: 0.7586 - accuracy: 0.7224\n",
      "Epoch 170: saving model to model/keypoint_classifier/keypoint_classifier.hdf5\n",
      "43/43 [==============================] - 0s 4ms/step - loss: 0.7602 - accuracy: 0.7217 - val_loss: 0.3317 - val_accuracy: 0.9342\n",
      "Epoch 171/1000\n",
      "22/43 [==============>...............] - ETA: 0s - loss: 0.7663 - accuracy: 0.7234\n",
      "Epoch 171: saving model to model/keypoint_classifier/keypoint_classifier.hdf5\n",
      "43/43 [==============================] - 0s 4ms/step - loss: 0.7710 - accuracy: 0.7249 - val_loss: 0.3420 - val_accuracy: 0.9303\n",
      "Epoch 172/1000\n",
      "24/43 [===============>..............] - ETA: 0s - loss: 0.7732 - accuracy: 0.7048\n",
      "Epoch 172: saving model to model/keypoint_classifier/keypoint_classifier.hdf5\n",
      "43/43 [==============================] - 0s 4ms/step - loss: 0.7683 - accuracy: 0.7159 - val_loss: 0.3405 - val_accuracy: 0.9320\n",
      "Epoch 172: early stopping\n"
     ]
    },
    {
     "data": {
      "text/plain": [
       "<keras.src.callbacks.History at 0x7f17506556d0>"
      ]
     },
     "execution_count": 11,
     "metadata": {},
     "output_type": "execute_result"
    }
   ],
   "source": [
    "model.fit(\n",
    "    X_train,\n",
    "    y_train,\n",
    "    epochs=1000,\n",
    "    batch_size=128,\n",
    "    validation_data=(X_test, y_test),\n",
    "    callbacks=[cp_callback, es_callback]\n",
    ")"
   ]
  },
  {
   "cell_type": "code",
   "execution_count": 12,
   "metadata": {},
   "outputs": [
    {
     "name": "stdout",
     "output_type": "stream",
     "text": [
      "15/15 [==============================] - 0s 2ms/step - loss: 0.3405 - accuracy: 0.9320\n"
     ]
    }
   ],
   "source": [
    "# モデル評価\n",
    "val_loss, val_acc = model.evaluate(X_test, y_test, batch_size=128)"
   ]
  },
  {
   "cell_type": "code",
   "execution_count": 13,
   "metadata": {},
   "outputs": [],
   "source": [
    "# 保存したモデルのロード\n",
    "model = tf.keras.models.load_model(model_save_path)"
   ]
  },
  {
   "cell_type": "code",
   "execution_count": 14,
   "metadata": {},
   "outputs": [
    {
     "name": "stdout",
     "output_type": "stream",
     "text": [
      "1/1 [==============================] - 0s 63ms/step\n",
      "[4.0009767e-02 1.2219724e-01 8.3620650e-01 2.8079492e-04 4.0758713e-04\n",
      " 8.1655727e-04 4.9569015e-05 3.1993848e-05]\n",
      "2\n"
     ]
    }
   ],
   "source": [
    "# 推論テスト\n",
    "predict_result = model.predict(np.array([X_test[0]]))\n",
    "print(np.squeeze(predict_result))\n",
    "print(np.argmax(np.squeeze(predict_result)))"
   ]
  },
  {
   "cell_type": "markdown",
   "metadata": {},
   "source": [
    "# 混同行列"
   ]
  },
  {
   "cell_type": "code",
   "execution_count": 15,
   "metadata": {
    "scrolled": true
   },
   "outputs": [
    {
     "name": "stdout",
     "output_type": "stream",
     "text": [
      "57/57 [==============================] - 0s 2ms/step\n"
     ]
    },
    {
     "data": {
      "image/png": "[encoded data removed]",
      "text/plain": [
       "<Figure size 700x600 with 2 Axes>"
      ]
     },
     "metadata": {},
     "output_type": "display_data"
    },
    {
     "name": "stdout",
     "output_type": "stream",
     "text": [
      "Classification Report\n",
      "              precision    recall  f1-score   support\n",
      "\n",
      "           0       0.97      0.86      0.91       418\n",
      "           1       0.98      0.90      0.94       431\n",
      "           2       0.87      0.98      0.93       332\n",
      "           3       0.66      0.98      0.79       103\n",
      "           4       1.00      0.99      1.00       110\n",
      "           5       0.99      0.97      0.98       122\n",
      "           6       0.99      0.99      0.99       126\n",
      "           7       0.99      0.95      0.97       152\n",
      "\n",
      "    accuracy                           0.93      1794\n",
      "   macro avg       0.93      0.95      0.94      1794\n",
      "weighted avg       0.94      0.93      0.93      1794\n",
      "\n"
     ]
    }
   ],
   "source": [
    "import pandas as pd\n",
    "import seaborn as sns\n",
    "import matplotlib.pyplot as plt\n",
    "from sklearn.metrics import confusion_matrix, classification_report\n",
    "\n",
    "def print_confusion_matrix(y_true, y_pred, report=True):\n",
    "    labels = sorted(list(set(y_true)))\n",
    "    cmx_data = confusion_matrix(y_true, y_pred, labels=labels)\n",
    "    \n",
    "    df_cmx = pd.DataFrame(cmx_data, index=labels, columns=labels)\n",
    " \n",
    "    fig, ax = plt.subplots(figsize=(7, 6))\n",
    "    sns.heatmap(df_cmx, annot=True, fmt='g' ,square=False)\n",
    "    ax.set_ylim(len(set(y_true)), 0)\n",
    "    plt.show()\n",
    "    \n",
    "    if report:\n",
    "        print('Classification Report')\n",
    "        print(classification_report(y_test, y_pred))\n",
    "\n",
    "Y_pred = model.predict(X_test)\n",
    "y_pred = np.argmax(Y_pred, axis=1)\n",
    "\n",
    "print_confusion_matrix(y_test, y_pred)"
   ]
  },
  {
   "cell_type": "markdown",
   "metadata": {},
   "source": [
    "# Tensorflow-Lite用のモデルへ変換"
   ]
  },
  {
   "cell_type": "code",
   "execution_count": 16,
   "metadata": {},
   "outputs": [
    {
     "name": "stderr",
     "output_type": "stream",
     "text": [
      "/home/ayush15/.local/lib/python3.8/site-packages/keras/src/engine/training.py:3000: UserWarning: You are saving your model as an HDF5 file via `model.save()`. This file format is considered legacy. We recommend using instead the native Keras format, e.g. `model.save('my_model.keras')`.\n",
      "  saving_api.save_model(\n"
     ]
    }
   ],
   "source": [
    "# 推論専用のモデルとして保存\n",
    "model.save(model_save_path, include_optimizer=False)"
   ]
  },
  {
   "cell_type": "code",
   "execution_count": 17,
   "metadata": {},
   "outputs": [
    {
     "name": "stdout",
     "output_type": "stream",
     "text": [
      "INFO:tensorflow:Assets written to: /tmp/tmputkpar1m/assets\n"
     ]
    },
    {
     "name": "stderr",
     "output_type": "stream",
     "text": [
      "INFO:tensorflow:Assets written to: /tmp/tmputkpar1m/assets\n",
      "2023-12-29 14:38:47.815975: W tensorflow/compiler/mlir/lite/python/tf_tfl_flatbuffer_helpers.cc:364] Ignored output_format.\n",
      "2023-12-29 14:38:47.816018: W tensorflow/compiler/mlir/lite/python/tf_tfl_flatbuffer_helpers.cc:367] Ignored drop_control_dependency.\n",
      "2023-12-29 14:38:47.816404: I tensorflow/cc/saved_model/reader.cc:45] Reading SavedModel from: /tmp/tmputkpar1m\n",
      "2023-12-29 14:38:47.817552: I tensorflow/cc/saved_model/reader.cc:91] Reading meta graph with tags { serve }\n",
      "2023-12-29 14:38:47.817568: I tensorflow/cc/saved_model/reader.cc:132] Reading SavedModel debug info (if present) from: /tmp/tmputkpar1m\n",
      "2023-12-29 14:38:47.820593: I tensorflow/compiler/mlir/mlir_graph_optimization_pass.cc:375] MLIR V1 optimization pass is not enabled\n",
      "2023-12-29 14:38:47.821522: I tensorflow/cc/saved_model/loader.cc:231] Restoring SavedModel bundle.\n",
      "2023-12-29 14:38:47.855538: I tensorflow/cc/saved_model/loader.cc:215] Running initialization op on SavedModel bundle at path: /tmp/tmputkpar1m\n",
      "2023-12-29 14:38:47.865754: I tensorflow/cc/saved_model/loader.cc:314] SavedModel load for tags { serve }; Status: success: OK. Took 49351 microseconds.\n",
      "2023-12-29 14:38:47.879675: I tensorflow/compiler/mlir/tensorflow/utils/dump_mlir_util.cc:255] disabling MLIR crash reproducer, set env var `MLIR_CRASH_REPRODUCER_DIRECTORY` to enable.\n"
     ]
    },
    {
     "data": {
      "text/plain": [
       "6720"
      ]
     },
     "execution_count": 17,
     "metadata": {},
     "output_type": "execute_result"
    }
   ],
   "source": [
    "# モデルを変換(量子化)\n",
    "tflite_save_path = 'model/keypoint_classifier/keypoint_classifier.tflite'\n",
    "\n",
    "converter = tf.lite.TFLiteConverter.from_keras_model(model)\n",
    "converter.optimizations = [tf.lite.Optimize.DEFAULT]\n",
    "tflite_quantized_model = converter.convert()\n",
    "\n",
    "open(tflite_save_path, 'wb').write(tflite_quantized_model)"
   ]
  },
  {
   "cell_type": "markdown",
   "metadata": {},
   "source": [
    "# 推論テスト"
   ]
  },
  {
   "cell_type": "code",
   "execution_count": 18,
   "metadata": {},
   "outputs": [
    {
     "name": "stderr",
     "output_type": "stream",
     "text": [
      "INFO: Created TensorFlow Lite XNNPACK delegate for CPU.\n"
     ]
    }
   ],
   "source": [
    "interpreter = tf.lite.Interpreter(model_path=tflite_save_path)\n",
    "interpreter.allocate_tensors()"
   ]
  },
  {
   "cell_type": "code",
   "execution_count": 19,
   "metadata": {},
   "outputs": [],
   "source": [
    "# 入出力テンソルを取得\n",
    "input_details = interpreter.get_input_details()\n",
    "output_details = interpreter.get_output_details()"
   ]
  },
  {
   "cell_type": "code",
   "execution_count": 20,
   "metadata": {},
   "outputs": [],
   "source": [
    "interpreter.set_tensor(input_details[0]['index'], np.array([X_test[0]]))"
   ]
  },
  {
   "cell_type": "code",
   "execution_count": 21,
   "metadata": {
    "scrolled": true
   },
   "outputs": [
    {
     "name": "stdout",
     "output_type": "stream",
     "text": [
      "CPU times: user 770 µs, sys: 92 µs, total: 862 µs\n",
      "Wall time: 763 µs\n"
     ]
    }
   ],
   "source": [
    "%%time\n",
    "# 推論実施\n",
    "interpreter.invoke()\n",
    "tflite_results = interpreter.get_tensor(output_details[0]['index'])"
   ]
  },
  {
   "cell_type": "code",
   "execution_count": 22,
   "metadata": {},
   "outputs": [
    {
     "name": "stdout",
     "output_type": "stream",
     "text": [
      "[4.0009756e-02 1.2219723e-01 8.3620661e-01 2.8079472e-04 4.0758718e-04\n",
      " 8.1655703e-04 4.9568927e-05 3.1993794e-05]\n",
      "2\n"
     ]
    }
   ],
   "source": [
    "print(np.squeeze(tflite_results))\n",
    "print(np.argmax(np.squeeze(tflite_results)))"
   ]
  },
  {
   "cell_type": "code",
   "execution_count": null,
   "metadata": {},
   "outputs": [],
   "source": []
  }
 ],
 "metadata": {
  "kernelspec": {
   "display_name": "Python 3 (ipykernel)",
   "language": "python",
   "name": "python3"
  },
  "language_info": {
   "codemirror_mode": {
    "name": "ipython",
    "version": 3
   },
   "file_extension": ".py",
   "mimetype": "text/x-python",
   "name": "python",
   "nbconvert_exporter": "python",
   "pygments_lexer": "ipython3",
   "version": "3.8.10"
  }
 },
 "nbformat": 4,
 "nbformat_minor": 4
}
